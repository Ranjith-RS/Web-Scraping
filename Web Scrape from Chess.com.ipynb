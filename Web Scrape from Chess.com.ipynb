{
 "cells": [
  {
   "cell_type": "code",
   "execution_count": 96,
   "id": "016ad800",
   "metadata": {},
   "outputs": [],
   "source": [
    "from bs4 import BeautifulSoup\n",
    "import requests\n",
    "import openpyxl"
   ]
  },
  {
   "cell_type": "code",
   "execution_count": 97,
   "id": "1a2b790d",
   "metadata": {},
   "outputs": [],
   "source": [
    "excel=openpyxl.Workbook()"
   ]
  },
  {
   "cell_type": "code",
   "execution_count": 106,
   "id": "10b44232",
   "metadata": {},
   "outputs": [
    {
     "name": "stdout",
     "output_type": "stream",
     "text": [
      "['Top Chess Players']\n"
     ]
    }
   ],
   "source": [
    "sheet=excel.active\n",
    "sheet.title='Top Chess Players'\n",
    "print(excel.sheetnames)\n",
    "sheet.append(['Player Rank','Player Name','Rating'])"
   ]
  },
  {
   "cell_type": "code",
   "execution_count": null,
   "id": "bf11659b",
   "metadata": {},
   "outputs": [],
   "source": []
  },
  {
   "cell_type": "code",
   "execution_count": 23,
   "id": "d5a83f59",
   "metadata": {},
   "outputs": [],
   "source": [
    "url='https://www.chess.com/ratings'\n",
    "source=requests.get(url)"
   ]
  },
  {
   "cell_type": "code",
   "execution_count": 24,
   "id": "9faa62d7",
   "metadata": {},
   "outputs": [],
   "source": [
    "source.raise_for_status()"
   ]
  },
  {
   "cell_type": "code",
   "execution_count": 25,
   "id": "d28a69ba",
   "metadata": {},
   "outputs": [],
   "source": [
    "soup=BeautifulSoup(source.text,'html.parser')"
   ]
  },
  {
   "cell_type": "code",
   "execution_count": 51,
   "id": "2ed45a68",
   "metadata": {},
   "outputs": [
    {
     "name": "stdout",
     "output_type": "stream",
     "text": [
      "50\n"
     ]
    }
   ],
   "source": [
    "article=soup.find('tbody').find_all('tr')\n",
    "print(len(article))"
   ]
  },
  {
   "cell_type": "code",
   "execution_count": 108,
   "id": "3290e6f5",
   "metadata": {
    "scrolled": true
   },
   "outputs": [
    {
     "name": "stdout",
     "output_type": "stream",
     "text": [
      "1 Magnus Carlsen 2838\n",
      "2 Fabiano Caruana 2790\n",
      "3 Hikaru Nakamura 2780\n",
      "4 Ding Liren 2780\n",
      "5 Alireza Firouzja 2777\n",
      "6 Ian Nepomniachtchi 2771\n",
      "7 Anish Giri 2761\n",
      "8 Richard Rapport 2751\n",
      "9 Gukesh Dommaraju 2751\n",
      "10 Sergey Karjakin 2750\n",
      "11 Wesley So 2748\n",
      "12 Viswanathan Anand 2748\n",
      "13 Leinier Dominguez Perez 2745\n",
      "14 Praggnanandhaa Rameshbabu 2741\n",
      "15 Maxime Vachier-Lagrave 2734\n",
      "16 Shakhriyar Mamedyarov 2733\n",
      "17 Alexander Grischuk 2732\n",
      "18 Le Quang Liem 2731\n",
      "19 Levon Aronian 2731\n",
      "20 Wei Yi 2729\n",
      "21 Veselin Topalov 2727\n",
      "22 Jan-Krzysztof Duda 2726\n",
      "23 Vincent Keymer 2724\n",
      "24 Yu Yangyi 2720\n",
      "25 Parham Maghsoodloo 2718\n",
      "26 Vidit Santosh Gujrathi 2715\n",
      "27 Nodirbek Abdusattorov 2713\n",
      "28 Francisco Vallejo Pons 2712\n",
      "29 Nikita Vitiugov 2711\n",
      "30 Daniil Dubov 2710\n",
      "31 Samuel Shankland 2708\n",
      "32 Pentala Harikrishna 2708\n",
      "33 Arjun Erigaisi 2707\n",
      "34 Sanan Sjugirov 2705\n",
      "35 Jorden van Foreest 2704\n",
      "36 Ray Robson 2701\n",
      "37 Wang Hao 2700\n",
      "38 Bogdan-Daniel Deac 2700\n",
      "39 Sam Sevian 2698\n",
      "40 Vladislav Artemiev 2698\n",
      "41 Amin Tabatabaei 2696\n",
      "42 David Navara 2695\n",
      "43 Pavel Eljanov 2695\n",
      "44 Evgeny Tomashevsky 2694\n",
      "45 Jeffery Xiong 2693\n",
      "46 David Anton Guijarro 2693\n",
      "47 Gabriel Sargissian 2692\n",
      "48 Bu Xiangzhi 2690\n",
      "49 Peter Svidler 2688\n",
      "50 Alexey Sarana 2685\n"
     ]
    }
   ],
   "source": [
    "for i in article:\n",
    "    rank=i.find('td',class_=\"table-text-right\").get_text(strip=True).split('#')[1]\n",
    "    name=i.find('a',class_=\"master-players-rating-username\").text.rstrip().lstrip()\n",
    "    rating=i.find('div',class_=\"master-players-rating-player-rank master-players-rating-rank-active\").text.rstrip().lstrip()\n",
    "\n",
    "    print(rank,name,rating)\n",
    "    sheet.append([rank,name,rating])\n",
    "    "
   ]
  },
  {
   "cell_type": "code",
   "execution_count": 109,
   "id": "b96a10ea",
   "metadata": {},
   "outputs": [],
   "source": [
    "excel.save(\"ChessRating.xlsx\")"
   ]
  }
 ],
 "metadata": {
  "kernelspec": {
   "display_name": "Python 3 (ipykernel)",
   "language": "python",
   "name": "python3"
  },
  "language_info": {
   "codemirror_mode": {
    "name": "ipython",
    "version": 3
   },
   "file_extension": ".py",
   "mimetype": "text/x-python",
   "name": "python",
   "nbconvert_exporter": "python",
   "pygments_lexer": "ipython3",
   "version": "3.11.3"
  }
 },
 "nbformat": 4,
 "nbformat_minor": 5
}
