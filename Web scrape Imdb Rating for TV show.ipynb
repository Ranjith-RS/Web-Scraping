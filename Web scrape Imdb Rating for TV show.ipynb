{
 "cells": [
  {
   "cell_type": "code",
   "execution_count": 10,
   "id": "f27cbb27",
   "metadata": {},
   "outputs": [],
   "source": [
    "import requests\n",
    "from bs4 import BeautifulSoup\n",
    "import openpyxl"
   ]
  },
  {
   "cell_type": "code",
   "execution_count": 251,
   "id": "de1e6064",
   "metadata": {},
   "outputs": [],
   "source": [
    "url='https://www.amazon.in/gp/bestsellers/books/'\n",
    "source=requests.get(url)"
   ]
  },
  {
   "cell_type": "code",
   "execution_count": 252,
   "id": "702f423a",
   "metadata": {},
   "outputs": [],
   "source": [
    "source.raise_for_status()"
   ]
  },
  {
   "cell_type": "code",
   "execution_count": 156,
   "id": "9493a46e",
   "metadata": {},
   "outputs": [],
   "source": [
    "soup=BeautifulSoup(source.text,'lxml')"
   ]
  },
  {
   "cell_type": "code",
   "execution_count": 244,
   "id": "b6270203",
   "metadata": {},
   "outputs": [
    {
     "name": "stdout",
     "output_type": "stream",
     "text": [
      "51\n"
     ]
    }
   ],
   "source": [
    "tag=soup.find('div',class_=\"p13n-gridRow _cDEzb_grid-row_3Cywl\")\n",
    "print(len(tag))"
   ]
  },
  {
   "cell_type": "code",
   "execution_count": 248,
   "id": "5ceb112d",
   "metadata": {},
   "outputs": [
    {
     "name": "stdout",
     "output_type": "stream",
     "text": [
      "#1\n"
     ]
    }
   ],
   "source": [
    "price=tag.find('span',class_=\"a-size-base a-color-price\")\n",
    "print(price)"
   ]
  },
  {
   "cell_type": "code",
   "execution_count": 193,
   "id": "0a2c5d84",
   "metadata": {},
   "outputs": [
    {
     "name": "stdout",
     "output_type": "stream",
     "text": [
      "None\n"
     ]
    }
   ],
   "source": [
    "#for i in tag:\n",
    "rank=i.find('div',class_=\"a-section zg-bdg-body zg-bdg-clr-body aok-float-left\").text\n",
    "name=tag.find('div',class_=\"_cDEzb_p13n-sc-css-line-clamp-1_1Fn1y\").text\n",
    "#author=tag.find('div',class_=\"a-row a-size-small\").text\n",
    "rating=i.find('span',class_=\"a-icon-alt\").text.split(' ')[0]  \n",
    "total_rating=i.find('span',class_=\"a-icon-alt\").text.split(' ')[3]\n",
    "#rating_count=tag.find('span',class_=\"a-size-small\").text\n",
    "book_type=i.find('span',class_=\"a-size-small a-color-secondary a-text-normal\").text\n",
    "print(price)\n",
    "   "
   ]
  },
  {
   "cell_type": "code",
   "execution_count": 239,
   "id": "687e4afa",
   "metadata": {},
   "outputs": [
    {
     "name": "stdout",
     "output_type": "stream",
     "text": [
      "1\n",
      "1\n",
      "0\n",
      "1\n",
      "1\n",
      "1\n",
      "1\n",
      "1\n",
      "1\n",
      "1\n",
      "1\n",
      "1\n",
      "1\n",
      "1\n",
      "0\n",
      "1\n",
      "1\n",
      "1\n",
      "1\n",
      "1\n",
      "1\n",
      "0\n",
      "1\n",
      "1\n",
      "1\n",
      "0\n",
      "1\n",
      "1\n",
      "1\n",
      "1\n",
      "0\n",
      "1\n",
      "1\n",
      "0\n",
      "1\n",
      "1\n",
      "1\n",
      "1\n",
      "0\n",
      "0\n",
      "0\n",
      "1\n",
      "1\n",
      "1\n",
      "1\n",
      "0\n",
      "0\n",
      "1\n",
      "1\n",
      "1\n",
      "0\n"
     ]
    }
   ],
   "source": [
    "for i in tag:\n",
    "    price=\n",
    "    print(len(name))"
   ]
  },
  {
   "cell_type": "code",
   "execution_count": null,
   "id": "62c8c2a2",
   "metadata": {},
   "outputs": [],
   "source": []
  }
 ],
 "metadata": {
  "kernelspec": {
   "display_name": "Python 3 (ipykernel)",
   "language": "python",
   "name": "python3"
  },
  "language_info": {
   "codemirror_mode": {
    "name": "ipython",
    "version": 3
   },
   "file_extension": ".py",
   "mimetype": "text/x-python",
   "name": "python",
   "nbconvert_exporter": "python",
   "pygments_lexer": "ipython3",
   "version": "3.11.3"
  }
 },
 "nbformat": 4,
 "nbformat_minor": 5
}
